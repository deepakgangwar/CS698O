{
 "cells": [
  {
   "cell_type": "markdown",
   "metadata": {},
   "source": [
    "## Creating Custom Datasets and Finetuning Pre-trained Networks\n",
    "In this notebook you have to create custom datasets for PyTorch and use this dataset to finetune certain pre-trained neural networks and observe the results."
   ]
  },
  {
   "cell_type": "code",
   "execution_count": 1,
   "metadata": {
    "collapsed": true
   },
   "outputs": [],
   "source": [
    "# Import Statements\n",
    "#\n",
    "# Several of the imports you will need have been added but you will need to provide the\n",
    "# rest yourself; you should be able to figure out most of the imports as you go through\n",
    "# the notebook since without proper imports your code will fail to run\n",
    "#\n",
    "# All import statements go in this block\n",
    "\n",
    "from __future__ import division, print_function, unicode_literals\n",
    "import numpy as np\n",
    "import torch\n",
    "import torch.utils.data\n",
    "import torchvision.models as models\n",
    "import torchvision.transforms as transforms\n",
    "import glob\n",
    "from torch.autograd import Variable\n",
    "from PIL import Image\n",
    "import torchvision\n",
    "import torch.nn as nn\n",
    "\n",
    "%matplotlib inline\n",
    "import matplotlib.pyplot as plt"
   ]
  },
  {
   "cell_type": "markdown",
   "metadata": {},
   "source": [
    "All hyper parameters go in the next block"
   ]
  },
  {
   "cell_type": "code",
   "execution_count": 2,
   "metadata": {
    "collapsed": true
   },
   "outputs": [],
   "source": [
    "batch_size = 5\n",
    "num_epochs = 5\n",
    "learning_rate = 0.0001"
   ]
  },
  {
   "cell_type": "markdown",
   "metadata": {},
   "source": [
    "### Creating Custom Datasets\n",
    "Your first task is to create a pipeline for the custom dataset so that you can load it using a dataloader. Download the dataset provided in the assignment webpage and complete the following block of code so that you can load it as if it was a standard dataset."
   ]
  },
  {
   "cell_type": "code",
   "execution_count": 3,
   "metadata": {
    "collapsed": true
   },
   "outputs": [],
   "source": [
    "class CDATA(torch.utils.data.Dataset): # Extend PyTorch's Dataset class\n",
    "    def __init__(self, root_dir, train, transform=None):\n",
    "        # root_dir  - the root directory of the dataset\n",
    "        # train     - a boolean parameter representing whether to return the training set or the test set\n",
    "        # transform - the transforms to be applied on the images before returning them\n",
    "        #\n",
    "        # In this function store the parameters in instance variables and make a mapping\n",
    "        # from images to labels and keep it as an instance variable. Make sure to check which\n",
    "        # dataset is required; train or test; and create the mapping accordingly.\n",
    "        self.train = train\n",
    "        self.transform = transform\n",
    "        self.dataset = []\n",
    "        tdir = \"train\"\n",
    "        if train==False:\n",
    "            tdir = \"test\"\n",
    "        for filepath in glob.glob(root_dir+\"/\"+tdir+\"/*/*.png\"):\n",
    "            label = ord(filepath.split(\"/\")[-2]) - ord('A')\n",
    "            with Image.open(filepath) as img:\n",
    "                image = img.convert('RGB')\n",
    "            self.dataset.append((image,label))\n",
    "        \n",
    "    def __len__(self):\n",
    "        # return the size of the dataset (total number of images) as an integer\n",
    "        # this should be rather easy if you created a mapping in __init__\n",
    "        return len(self.dataset)\n",
    "        \n",
    "    def __getitem__(self, idx):\n",
    "        # idx - the index of the sample requested\n",
    "        #\n",
    "        # Open the image correspoding to idx, apply transforms on it and return a tuple (image, label)\n",
    "        # where label is an integer from 0-9 (since notMNIST has 10 classes)\n",
    "        img, lab = self.dataset[idx]\n",
    "        if self.transform is not None:\n",
    "            img = self.transform(img)\n",
    "        return img, lab\n",
    "        "
   ]
  },
  {
   "cell_type": "code",
   "execution_count": 4,
   "metadata": {
    "collapsed": true
   },
   "outputs": [],
   "source": [
    "use_gpu = True"
   ]
  },
  {
   "cell_type": "markdown",
   "metadata": {},
   "source": [
    "We shall now load the dataset. You just need to supply the `root_dir` in the block below and if you implemented the above block correctly, it should work without any issues."
   ]
  },
  {
   "cell_type": "code",
   "execution_count": 5,
   "metadata": {},
   "outputs": [
    {
     "name": "stdout",
     "output_type": "stream",
     "text": [
      "Size of train dataset: 16854\n",
      "Size of test dataset: 1870\n",
      "Train images\n",
      "Test images\n"
     ]
    },
    {
     "data": {
      "image/png": "[encoded data removed]",
      "text/plain": [
       "<matplotlib.figure.Figure at 0x7f5f961e2810>"
      ]
     },
     "metadata": {},
     "output_type": "display_data"
    }
   ],
   "source": [
    "composed_transform = transforms.Compose([transforms.Scale((224,224)),transforms.ToTensor()])\n",
    "train_dataset = CDATA(root_dir='notMNIST_small', train=True, transform=composed_transform) # Supply proper root_dir\n",
    "test_dataset = CDATA(root_dir='notMNIST_small', train=False, transform=composed_transform) # Supply proper root_dir\n",
    "\n",
    "# Let's check the size of the datasets, if implemented correctly they should be 16854 and 1870 respectively\n",
    "print('Size of train dataset: %d' % len(train_dataset))\n",
    "print('Size of test dataset: %d' % len(test_dataset))\n",
    "\n",
    "# Create loaders for the dataset\n",
    "train_loader = torch.utils.data.DataLoader(dataset=train_dataset, batch_size=batch_size, shuffle=True)\n",
    "test_loader = torch.utils.data.DataLoader(dataset=test_dataset, batch_size=batch_size, shuffle=False)\n",
    "\n",
    "# Let's look at one batch of train and test images\n",
    "def imshow(img):\n",
    "    npimg = img.numpy()\n",
    "    plt.imshow(np.transpose(npimg, (1, 2, 0)))\n",
    "    \n",
    "train_dataiter = iter(train_loader)\n",
    "train_images, train_labels = train_dataiter.next()\n",
    "print(\"Train images\")\n",
    "imshow(torchvision.utils.make_grid(train_images))\n",
    "\n",
    "test_dataiter = iter(test_loader)\n",
    "test_images, test_labels = test_dataiter.next()\n",
    "print(\"Test images\")\n",
    "imshow(torchvision.utils.make_grid(test_images))"
   ]
  },
  {
   "cell_type": "markdown",
   "metadata": {},
   "source": [
    "### VGG-16 and Resnet-18\n",
    "Now that you have created the dataset we can use it for training and testing neural networks. VGG-16 and Resnet-18 are both well-known deep-net architectures. VGG-16 is named as such since it has 16 layers in total (13 convolution and 3 fully-connected). Resnet-18 on the other hand is a Resnet architecture that uses skip-connections. PyTorch provides pre-trained models of both these architectures and we shall be using them directly. If you are interested in knowing how they have been defined do take a look at the source, [VGG](https://github.com/pytorch/vision/blob/master/torchvision/models/vgg.py), [Resnet](https://github.com/pytorch/vision/blob/master/torchvision/models/resnet.py)"
   ]
  },
  {
   "cell_type": "code",
   "execution_count": 6,
   "metadata": {
    "collapsed": true
   },
   "outputs": [],
   "source": [
    "vgg16 = models.vgg16(pretrained=True)\n",
    "resnet18 = models.resnet18(pretrained=True)\n",
    "\n",
    "# Code to change the last layers so that they only have 10 classes as output\n",
    "vgg16.classifier = nn.Sequential(\n",
    "    nn.Linear(512 * 7 * 7, 4096),\n",
    "    nn.ReLU(True),\n",
    "    nn.Dropout(),\n",
    "    nn.Linear(4096, 4096),\n",
    "    nn.ReLU(True),\n",
    "    nn.Dropout(),\n",
    "    nn.Linear(4096, 10),\n",
    ")\n",
    "resnet18.fc = nn.Linear(resnet18.fc.in_features, 10)\n",
    "\n",
    "# Add code for using CUDA here if it is available\n",
    "if(torch.cuda.is_available()):\n",
    "    vgg16.cuda()\n",
    "    resnet18.cuda()"
   ]
  },
  {
   "cell_type": "markdown",
   "metadata": {},
   "source": [
    "Define loss functions and optimizers"
   ]
  },
  {
   "cell_type": "code",
   "execution_count": 7,
   "metadata": {
    "collapsed": true
   },
   "outputs": [],
   "source": [
    "criterion = nn.CrossEntropyLoss()\n",
    "optimizer_vgg16 = torch.optim.Adam(vgg16.parameters(), lr=learning_rate)\n",
    "optimizer_resnet18 = torch.optim.Adam(resnet18.parameters(), lr=learning_rate)"
   ]
  },
  {
   "cell_type": "markdown",
   "metadata": {},
   "source": [
    "#### Finetuning\n",
    "Finetuning is nothing but training models after their weights have been loaded. This allows us to start at a better position than training from scratch. Since the models created already have weights loaded, you simply need to write a training loop."
   ]
  },
  {
   "cell_type": "code",
   "execution_count": 8,
   "metadata": {
    "collapsed": true
   },
   "outputs": [],
   "source": [
    "def train_vgg16():\n",
    "    # Write loops so as to train the model for N epochs, use num_epochs hyper parameter\n",
    "    # Train/finetune the VGG-16 network\n",
    "    # Store the losses for every epoch and generate a graph using matplotlib\n",
    "    llist = []\n",
    "    count = 0\n",
    "    for epoch in range(num_epochs):\n",
    "        for i, (images, labels) in enumerate(train_loader):  \n",
    "            # Convert torch tensor to Variable\n",
    "#             print (\"loading images and labels\")\n",
    "            images = Variable(images)\n",
    "            labels = Variable(labels)\n",
    "#             print (\"cuda ops\")\n",
    "            if(use_gpu):\n",
    "                images=images.cuda()\n",
    "                labels=labels.cuda()\n",
    "#             print (\"optimizer\")\n",
    "            # Forward + Backward + Optimize\n",
    "            optimizer_vgg16.zero_grad()  # zero the gradient buffer\n",
    "#             print (\"pass\")\n",
    "            outputs = vgg16(images)\n",
    "#             print (\"loss\")\n",
    "            loss = criterion(outputs, labels)\n",
    "#             print (\"backprop\")\n",
    "            loss.backward()\n",
    "#             print (\"optimizer update\")\n",
    "            optimizer_vgg16.step()\n",
    "            count = count+1\n",
    "            llist.append(loss.data[0])\n",
    "            if (i+1) % batch_size == 0:\n",
    "                print ('Epoch [%d/%d], Step [%d/%d], Loss: %.4f' \n",
    "                       %(epoch+1, num_epochs, i+1, len(train_dataset)//batch_size, loss.data[0]))\n",
    "    plt.plot(np.array(range(count)),np.array(llist))\n",
    "    plt.show()\n",
    "    \n",
    "def train_resnet18():\n",
    "    # Same as above except now using the Resnet-18 network\n",
    "    llist = []\n",
    "    count = 0\n",
    "    for epoch in range(num_epochs):\n",
    "        for i, (images, labels) in enumerate(train_loader):  \n",
    "            # Convert torch tensor to Variable\n",
    "            images = Variable(images)\n",
    "            labels = Variable(labels)\n",
    "            if(use_gpu):\n",
    "                images=images.cuda()\n",
    "                labels=labels.cuda()\n",
    "            # Forward + Backward + Optimize\n",
    "            optimizer_resnet18.zero_grad()  # zero the gradient buffer\n",
    "            outputs = resnet18(images)\n",
    "            loss = criterion(outputs, labels)\n",
    "            loss.backward()\n",
    "            optimizer_resnet18.step()\n",
    "            count = count+1\n",
    "            llist.append(loss.data[0])\n",
    "            if (i+1) % batch_size == 0:\n",
    "                print ('Epoch [%d/%d], Step [%d/%d], Loss: %.4f' \n",
    "                       %(epoch+1, num_epochs, i+1, len(train_dataset)//batch_size, loss.data[0]))\n",
    "    plt.plot(np.array(range(count)),np.array(llist))\n",
    "    plt.show()"
   ]
  },
  {
   "cell_type": "markdown",
   "metadata": {},
   "source": [
    "Now let us start the training/finetuning"
   ]
  },
  {
   "cell_type": "code",
   "execution_count": null,
   "metadata": {},
   "outputs": [
    {
     "name": "stdout",
     "output_type": "stream",
     "text": [
      "Epoch [1/5], Step [5/3370], Loss: 1.9345\n",
      "Epoch [1/5], Step [10/3370], Loss: 2.7151\n",
      "Epoch [1/5], Step [15/3370], Loss: 2.3381\n",
      "Epoch [1/5], Step [20/3370], Loss: 2.3469\n",
      "Epoch [1/5], Step [25/3370], Loss: 1.6572\n",
      "Epoch [1/5], Step [30/3370], Loss: 2.6695\n",
      "Epoch [1/5], Step [35/3370], Loss: 1.6433\n",
      "Epoch [1/5], Step [40/3370], Loss: 1.3165\n",
      "Epoch [1/5], Step [45/3370], Loss: 1.4440\n",
      "Epoch [1/5], Step [50/3370], Loss: 0.2796\n",
      "Epoch [1/5], Step [55/3370], Loss: 0.7808\n",
      "Epoch [1/5], Step [60/3370], Loss: 0.4132\n",
      "Epoch [1/5], Step [65/3370], Loss: 0.5069\n",
      "Epoch [1/5], Step [70/3370], Loss: 0.5331\n",
      "Epoch [1/5], Step [75/3370], Loss: 0.2583\n",
      "Epoch [1/5], Step [80/3370], Loss: 0.7435\n",
      "Epoch [1/5], Step [85/3370], Loss: 0.2786\n",
      "Epoch [1/5], Step [90/3370], Loss: 0.5787\n",
      "Epoch [1/5], Step [95/3370], Loss: 0.3969\n",
      "Epoch [1/5], Step [100/3370], Loss: 0.2179\n",
      "Epoch [1/5], Step [105/3370], Loss: 1.2394\n",
      "Epoch [1/5], Step [110/3370], Loss: 0.0099\n",
      "Epoch [1/5], Step [115/3370], Loss: 1.3363\n",
      "Epoch [1/5], Step [120/3370], Loss: 1.0400\n",
      "Epoch [1/5], Step [125/3370], Loss: 0.2152\n",
      "Epoch [1/5], Step [130/3370], Loss: 0.1491\n",
      "Epoch [1/5], Step [135/3370], Loss: 0.7806\n",
      "Epoch [1/5], Step [140/3370], Loss: 0.1367\n",
      "Epoch [1/5], Step [145/3370], Loss: 0.0241\n",
      "Epoch [1/5], Step [150/3370], Loss: 0.2625\n",
      "Epoch [1/5], Step [155/3370], Loss: 0.6001\n",
      "Epoch [1/5], Step [160/3370], Loss: 0.2826\n",
      "Epoch [1/5], Step [165/3370], Loss: 1.2276\n",
      "Epoch [1/5], Step [170/3370], Loss: 0.1046\n",
      "Epoch [1/5], Step [175/3370], Loss: 0.5787\n",
      "Epoch [1/5], Step [180/3370], Loss: 0.4961\n",
      "Epoch [1/5], Step [185/3370], Loss: 0.1906\n",
      "Epoch [1/5], Step [190/3370], Loss: 0.5673\n",
      "Epoch [1/5], Step [195/3370], Loss: 0.5460\n",
      "Epoch [1/5], Step [200/3370], Loss: 0.0042\n",
      "Epoch [1/5], Step [205/3370], Loss: 0.4007\n",
      "Epoch [1/5], Step [210/3370], Loss: 0.9817\n",
      "Epoch [1/5], Step [215/3370], Loss: 0.8274\n",
      "Epoch [1/5], Step [220/3370], Loss: 0.1411\n",
      "Epoch [1/5], Step [225/3370], Loss: 0.6133\n",
      "Epoch [1/5], Step [230/3370], Loss: 0.0066\n",
      "Epoch [1/5], Step [235/3370], Loss: 0.0056\n",
      "Epoch [1/5], Step [240/3370], Loss: 0.0654\n",
      "Epoch [1/5], Step [245/3370], Loss: 0.1775\n",
      "Epoch [1/5], Step [250/3370], Loss: 1.1955\n",
      "Epoch [1/5], Step [255/3370], Loss: 0.0778\n",
      "Epoch [1/5], Step [260/3370], Loss: 0.0092\n",
      "Epoch [1/5], Step [265/3370], Loss: 0.1758\n",
      "Epoch [1/5], Step [270/3370], Loss: 0.0620\n",
      "Epoch [1/5], Step [275/3370], Loss: 0.0145\n",
      "Epoch [1/5], Step [280/3370], Loss: 0.5123\n",
      "Epoch [1/5], Step [285/3370], Loss: 0.1541\n",
      "Epoch [1/5], Step [290/3370], Loss: 0.5228\n",
      "Epoch [1/5], Step [295/3370], Loss: 0.3884\n",
      "Epoch [1/5], Step [300/3370], Loss: 0.4296\n",
      "Epoch [1/5], Step [305/3370], Loss: 0.6566\n",
      "Epoch [1/5], Step [310/3370], Loss: 0.2642\n",
      "Epoch [1/5], Step [315/3370], Loss: 0.6412\n",
      "Epoch [1/5], Step [320/3370], Loss: 0.0022\n",
      "Epoch [1/5], Step [325/3370], Loss: 0.0000\n",
      "Epoch [1/5], Step [330/3370], Loss: 0.0211\n",
      "Epoch [1/5], Step [335/3370], Loss: 0.0006\n",
      "Epoch [1/5], Step [340/3370], Loss: 0.7186\n",
      "Epoch [1/5], Step [345/3370], Loss: 0.0146\n",
      "Epoch [1/5], Step [350/3370], Loss: 0.0523\n",
      "Epoch [1/5], Step [355/3370], Loss: 0.3894\n",
      "Epoch [1/5], Step [360/3370], Loss: 0.1675\n",
      "Epoch [1/5], Step [365/3370], Loss: 0.1486\n",
      "Epoch [1/5], Step [370/3370], Loss: 0.6791\n",
      "Epoch [1/5], Step [375/3370], Loss: 0.4849\n",
      "Epoch [1/5], Step [380/3370], Loss: 0.6222\n",
      "Epoch [1/5], Step [385/3370], Loss: 0.7100\n",
      "Epoch [1/5], Step [390/3370], Loss: 0.0070\n",
      "Epoch [1/5], Step [395/3370], Loss: 0.1716\n",
      "Epoch [1/5], Step [400/3370], Loss: 0.8097\n",
      "Epoch [1/5], Step [405/3370], Loss: 0.8549\n",
      "Epoch [1/5], Step [410/3370], Loss: 1.6823\n",
      "Epoch [1/5], Step [415/3370], Loss: 0.1087\n",
      "Epoch [1/5], Step [420/3370], Loss: 0.1408\n",
      "Epoch [1/5], Step [425/3370], Loss: 0.3069\n",
      "Epoch [1/5], Step [430/3370], Loss: 0.0032\n",
      "Epoch [1/5], Step [435/3370], Loss: 0.1273\n",
      "Epoch [1/5], Step [440/3370], Loss: 0.0011\n",
      "Epoch [1/5], Step [445/3370], Loss: 1.1767\n",
      "Epoch [1/5], Step [450/3370], Loss: 0.0300\n",
      "Epoch [1/5], Step [455/3370], Loss: 0.0201\n",
      "Epoch [1/5], Step [460/3370], Loss: 0.0012\n",
      "Epoch [1/5], Step [465/3370], Loss: 0.2722\n",
      "Epoch [1/5], Step [470/3370], Loss: 0.5499\n",
      "Epoch [1/5], Step [475/3370], Loss: 0.0427\n",
      "Epoch [1/5], Step [480/3370], Loss: 0.0397\n",
      "Epoch [1/5], Step [485/3370], Loss: 0.2782\n",
      "Epoch [1/5], Step [490/3370], Loss: 0.3212\n",
      "Epoch [1/5], Step [495/3370], Loss: 0.3376\n",
      "Epoch [1/5], Step [500/3370], Loss: 0.2170\n",
      "Epoch [1/5], Step [505/3370], Loss: 0.3638\n",
      "Epoch [1/5], Step [510/3370], Loss: 0.0344\n",
      "Epoch [1/5], Step [515/3370], Loss: 0.0090\n",
      "Epoch [1/5], Step [520/3370], Loss: 0.4077\n",
      "Epoch [1/5], Step [525/3370], Loss: 0.0012\n",
      "Epoch [1/5], Step [530/3370], Loss: 0.0445\n",
      "Epoch [1/5], Step [535/3370], Loss: 1.1817\n",
      "Epoch [1/5], Step [540/3370], Loss: 0.0667\n",
      "Epoch [1/5], Step [545/3370], Loss: 1.8578\n",
      "Epoch [1/5], Step [550/3370], Loss: 0.0184\n",
      "Epoch [1/5], Step [555/3370], Loss: 0.0834\n",
      "Epoch [1/5], Step [560/3370], Loss: 0.0834\n",
      "Epoch [1/5], Step [565/3370], Loss: 0.1765\n",
      "Epoch [1/5], Step [570/3370], Loss: 0.0027\n",
      "Epoch [1/5], Step [575/3370], Loss: 0.0033\n",
      "Epoch [1/5], Step [580/3370], Loss: 0.0399\n",
      "Epoch [1/5], Step [585/3370], Loss: 0.0421\n",
      "Epoch [1/5], Step [590/3370], Loss: 0.1069\n",
      "Epoch [1/5], Step [595/3370], Loss: 0.0027\n",
      "Epoch [1/5], Step [600/3370], Loss: 0.1229\n",
      "Epoch [1/5], Step [605/3370], Loss: 0.0453\n",
      "Epoch [1/5], Step [610/3370], Loss: 0.9804\n",
      "Epoch [1/5], Step [615/3370], Loss: 0.0143\n",
      "Epoch [1/5], Step [620/3370], Loss: 1.2396\n",
      "Epoch [1/5], Step [625/3370], Loss: 0.0148\n",
      "Epoch [1/5], Step [630/3370], Loss: 0.7136\n",
      "Epoch [1/5], Step [635/3370], Loss: 0.0003\n",
      "Epoch [1/5], Step [640/3370], Loss: 0.0035\n",
      "Epoch [1/5], Step [645/3370], Loss: 0.4322\n",
      "Epoch [1/5], Step [650/3370], Loss: 0.0112\n",
      "Epoch [1/5], Step [655/3370], Loss: 0.0253\n",
      "Epoch [1/5], Step [660/3370], Loss: 0.5647\n",
      "Epoch [1/5], Step [665/3370], Loss: 0.2395\n",
      "Epoch [1/5], Step [670/3370], Loss: 0.1633\n",
      "Epoch [1/5], Step [675/3370], Loss: 0.0053\n",
      "Epoch [1/5], Step [680/3370], Loss: 1.1191\n",
      "Epoch [1/5], Step [685/3370], Loss: 0.0249\n",
      "Epoch [1/5], Step [690/3370], Loss: 0.2926\n",
      "Epoch [1/5], Step [695/3370], Loss: 0.0685\n",
      "Epoch [1/5], Step [700/3370], Loss: 0.1707\n",
      "Epoch [1/5], Step [705/3370], Loss: 0.3280\n",
      "Epoch [1/5], Step [710/3370], Loss: 0.0522\n",
      "Epoch [1/5], Step [715/3370], Loss: 1.4201\n",
      "Epoch [1/5], Step [720/3370], Loss: 0.0206\n",
      "Epoch [1/5], Step [725/3370], Loss: 0.1322\n",
      "Epoch [1/5], Step [730/3370], Loss: 0.2393\n",
      "Epoch [1/5], Step [735/3370], Loss: 0.6882\n",
      "Epoch [1/5], Step [740/3370], Loss: 0.0022\n",
      "Epoch [1/5], Step [745/3370], Loss: 0.0003\n",
      "Epoch [1/5], Step [750/3370], Loss: 0.4476\n",
      "Epoch [1/5], Step [755/3370], Loss: 0.0004\n",
      "Epoch [1/5], Step [760/3370], Loss: 0.1943\n",
      "Epoch [1/5], Step [765/3370], Loss: 3.3208\n",
      "Epoch [1/5], Step [770/3370], Loss: 0.0690\n",
      "Epoch [1/5], Step [775/3370], Loss: 0.0589\n",
      "Epoch [1/5], Step [780/3370], Loss: 0.1607\n",
      "Epoch [1/5], Step [785/3370], Loss: 0.5508\n",
      "Epoch [1/5], Step [790/3370], Loss: 0.1053\n",
      "Epoch [1/5], Step [795/3370], Loss: 0.0449\n",
      "Epoch [1/5], Step [800/3370], Loss: 0.0109\n",
      "Epoch [1/5], Step [805/3370], Loss: 0.0021\n",
      "Epoch [1/5], Step [810/3370], Loss: 0.3100\n",
      "Epoch [1/5], Step [815/3370], Loss: 0.0191\n",
      "Epoch [1/5], Step [820/3370], Loss: 0.1575\n",
      "Epoch [1/5], Step [825/3370], Loss: 2.1237\n",
      "Epoch [1/5], Step [830/3370], Loss: 0.0046\n",
      "Epoch [1/5], Step [835/3370], Loss: 0.3470\n",
      "Epoch [1/5], Step [840/3370], Loss: 0.0261\n",
      "Epoch [1/5], Step [845/3370], Loss: 1.0635\n",
      "Epoch [1/5], Step [850/3370], Loss: 0.1598\n",
      "Epoch [1/5], Step [855/3370], Loss: 0.0429\n",
      "Epoch [1/5], Step [860/3370], Loss: 0.1598\n",
      "Epoch [1/5], Step [865/3370], Loss: 0.0157\n",
      "Epoch [1/5], Step [870/3370], Loss: 0.0008\n",
      "Epoch [1/5], Step [875/3370], Loss: 0.2415\n",
      "Epoch [1/5], Step [880/3370], Loss: 0.0000\n",
      "Epoch [1/5], Step [885/3370], Loss: 0.9687\n",
      "Epoch [1/5], Step [890/3370], Loss: 1.0650\n",
      "Epoch [1/5], Step [895/3370], Loss: 0.2574\n",
      "Epoch [1/5], Step [900/3370], Loss: 0.3383\n",
      "Epoch [1/5], Step [905/3370], Loss: 0.2746\n",
      "Epoch [1/5], Step [910/3370], Loss: 0.3555\n",
      "Epoch [1/5], Step [915/3370], Loss: 0.4764\n"
     ]
    }
   ],
   "source": [
    "%time train_vgg16()\n",
    "%time train_resnet18()"
   ]
  },
  {
   "cell_type": "markdown",
   "metadata": {},
   "source": [
    "#### Testing\n",
    "Once finetuning is done we need to test it on the test set."
   ]
  },
  {
   "cell_type": "code",
   "execution_count": null,
   "metadata": {
    "collapsed": true
   },
   "outputs": [],
   "source": [
    "def test(model):\n",
    "    # Write loops for testing the model on the test set\n",
    "    # You should also print out the accuracy of the model\n",
    "    correct = 0\n",
    "    total = 0\n",
    "    \n",
    "    for images, labels in test_loader:\n",
    "        images = Variable(images)\n",
    "        \n",
    "        if(use_gpu):\n",
    "            images = images.cuda()\n",
    "        \n",
    "        outputs = model(images)\n",
    "        _, predicted = torch.max(outputs.data, 1)\n",
    "        total += labels.size(0)\n",
    "        correct += (predicted.cpu() == labels.cpu()).sum()\n",
    "    print('Accuracy of the network on test images: %d %%' % (100 * correct / total))"
   ]
  },
  {
   "cell_type": "markdown",
   "metadata": {},
   "source": [
    "Test the models"
   ]
  },
  {
   "cell_type": "code",
   "execution_count": null,
   "metadata": {
    "collapsed": true
   },
   "outputs": [],
   "source": [
    "%time test(vgg16)\n",
    "%time test(resnet18)"
   ]
  },
  {
   "cell_type": "markdown",
   "metadata": {},
   "source": [
    "You can add more code to save the models if you want but otherwise this notebook is complete"
   ]
  }
 ],
 "metadata": {
  "kernelspec": {
   "display_name": "Python 2",
   "language": "python",
   "name": "python2"
  },
  "language_info": {
   "codemirror_mode": {
    "name": "ipython",
    "version": 2
   },
   "file_extension": ".py",
   "mimetype": "text/x-python",
   "name": "python",
   "nbconvert_exporter": "python",
   "pygments_lexer": "ipython2",
   "version": "2.7.12"
  }
 },
 "nbformat": 4,
 "nbformat_minor": 2
}
