{
 "cells": [
  {
   "cell_type": "markdown",
   "metadata": {},
   "source": [
    "## Creating Custom Networks\n",
    "In this notebook you have to create a custom network whose architecture has been given, and use the dataset you created earlier to train and test it."
   ]
  },
  {
   "cell_type": "code",
   "execution_count": 24,
   "metadata": {
    "collapsed": true
   },
   "outputs": [],
   "source": [
    "# Import Statements\n",
    "#\n",
    "# Several of the imports you will need have been added but you will need to provide the\n",
    "# rest yourself; you should be able to figure out most of the imports as you go through\n",
    "# the notebook since without proper imports your code will fail to run\n",
    "#\n",
    "# All import statements go in this block\n",
    "\n",
    "from __future__ import division, print_function, unicode_literals\n",
    "import numpy as np\n",
    "import torch\n",
    "import torch.utils.data\n",
    "import torchvision.models as models\n",
    "import torchvision.transforms as transforms\n",
    "import glob\n",
    "from torch.autograd import Variable\n",
    "from PIL import Image\n",
    "import torchvision\n",
    "import torch.nn as nn\n",
    "\n",
    "%matplotlib inline\n",
    "import matplotlib.pyplot as plt"
   ]
  },
  {
   "cell_type": "markdown",
   "metadata": {},
   "source": [
    "All hyper parameters go in the next block"
   ]
  },
  {
   "cell_type": "code",
   "execution_count": 25,
   "metadata": {
    "collapsed": true
   },
   "outputs": [],
   "source": [
    "batch_size = 100\n",
    "num_epochs = 5\n",
    "learning_rate = 0.001"
   ]
  },
  {
   "cell_type": "markdown",
   "metadata": {},
   "source": [
    "### Create Custom Dataset and Loader\n",
    "This is the same as part 1. Simply use the same code to create the dataset."
   ]
  },
  {
   "cell_type": "code",
   "execution_count": 26,
   "metadata": {},
   "outputs": [
    {
     "name": "stdout",
     "output_type": "stream",
     "text": [
      "16854\n"
     ]
    }
   ],
   "source": [
    "class CDATA(torch.utils.data.Dataset):\n",
    "    def __init__(self, root_dir, train, transform=None):\n",
    "        # root_dir  - the root directory of the dataset\n",
    "        # train     - a boolean parameter representing whether to return the training set or the test set\n",
    "        # transform - the transforms to be applied on the images before returning them\n",
    "        #\n",
    "        # In this function store the parameters in instance variables and make a mapping\n",
    "        # from images to labels and keep it as an instance variable. Make sure to check which\n",
    "        # dataset is required; train or test; and create the mapping accordingly.\n",
    "        self.train = train\n",
    "        self.transform = transform\n",
    "        self.dataset = []\n",
    "        tdir = \"train\"\n",
    "        if train==False:\n",
    "            tdir = \"test\"\n",
    "        for filepath in glob.glob(root_dir+\"/\"+tdir+\"/*/*.png\"):\n",
    "            label = ord(filepath.split(\"/\")[-2]) - ord('A')\n",
    "            with Image.open(filepath) as img:\n",
    "                image = img.convert('RGB')\n",
    "            self.dataset.append((image,label))\n",
    "        \n",
    "    def __len__(self):\n",
    "        # return the size of the dataset (total number of images) as an integer\n",
    "        # this should be rather easy if you created a mapping in __init__\n",
    "        return len(self.dataset)\n",
    "        \n",
    "    def __getitem__(self, idx):\n",
    "        # idx - the index of the sample requested\n",
    "        #\n",
    "        # Open the image correspoding to idx, apply transforms on it and return a tuple (image, label)\n",
    "        # where label is an integer from 0-9 (since notMNIST has 10 classes)\n",
    "        img, lab = self.dataset[idx]\n",
    "        if self.transform is not None:\n",
    "            img = self.transform(img)\n",
    "        return img, lab\n",
    "        \n",
    "    \n",
    "composed_transform = transforms.Compose([transforms.Scale((32,32)),transforms.ToTensor()])\n",
    "train_dataset = CDATA(root_dir='../notMNIST_small', train=True, transform=composed_transform) # Supply proper root_dir\n",
    "test_dataset = CDATA(root_dir='../notMNIST_small', train=False, transform=composed_transform) # Supply proper root_dir\n",
    "print (len(train_dataset))\n",
    "train_loader = torch.utils.data.DataLoader(dataset=train_dataset, batch_size=batch_size, shuffle=True)\n",
    "test_loader = torch.utils.data.DataLoader(dataset=test_dataset, batch_size=batch_size, shuffle=False)"
   ]
  },
  {
   "cell_type": "markdown",
   "metadata": {},
   "source": [
    "### Creating a Custom Network\n",
    "It's time to create a new custom network. This network is based on Resnet (indeed it is a resnet since it uses skip connections). The architecture of the network is provided in the diagram. It specifies the layer names, layer types as well as their parameters.\n",
    "<img src=\"architecture.png\" width=100>\n",
    "[Full size image](architecture.html)"
   ]
  },
  {
   "cell_type": "code",
   "execution_count": 27,
   "metadata": {
    "collapsed": true
   },
   "outputs": [],
   "source": [
    "class CustomResnet(nn.Module): # Extend PyTorch's Module class\n",
    "    def __init__(self, num_classes = 10):\n",
    "        super(CustomResnet, self).__init__() # Must call super __init__()\n",
    "        \n",
    "        # Define the layers of the network here\n",
    "        # There should be 17 total layers as evident from the diagram\n",
    "        # The parameters and names for the layers are provided in the diagram\n",
    "        # The variable names have to be the same as the ones in the diagram\n",
    "        # Otherwise, the weights will not load\n",
    "        self.conv1 = nn.Conv2d(3,64,kernel_size=7,stride=2,padding=3,bias=True)\n",
    "        self.bn1 = nn.BatchNorm2d(64)\n",
    "        self.relu = nn.ReLU(inplace=True)\n",
    "        self.maxpool = nn.MaxPool2d(kernel_size=3,stride=2,padding=1)\n",
    "        self.lyr1conv1 = nn.Conv2d(64,64,kernel_size=3,stride=1,padding=1,bias=True)\n",
    "        self.lyr1bn1 = nn.BatchNorm2d(64)\n",
    "        self.lyr1relu1 = nn.ReLU(inplace=True)\n",
    "        self.lyr1conv2 = nn.Conv2d(64,64,kernel_size=3,stride=1,padding=1,bias=True)\n",
    "        self.lyr1bn2 = nn.BatchNorm2d(64)\n",
    "        self.lyr1relu2 = nn.ReLU(inplace=True)\n",
    "        self.lyr2conv1 = nn.Conv2d(64,64,kernel_size=3,stride=1,padding=1,bias=True)\n",
    "        self.lyr2bn1 = nn.BatchNorm2d(64)\n",
    "        self.lyr2relu1 = nn.ReLU(inplace=True)\n",
    "        self.lyr2conv2 = nn.Conv2d(64,64,kernel_size=3,stride=1,padding=1,bias=True)\n",
    "        self.lyr2bn2 = nn.BatchNorm2d(64)\n",
    "        self.lyr2relu2 = nn.ReLU(inplace=True)\n",
    "        self.fc = nn.Linear(4096,num_classes)\n",
    "        \n",
    "    def forward(self, x):\n",
    "        # Here you have to define the forward pass\n",
    "        # Make sure you take care of the skip connections\n",
    "        out = self.conv1(x)\n",
    "        out = self.bn1(out)\n",
    "        out = self.relu(out)\n",
    "        out = self.maxpool(out)\n",
    "        \n",
    "        out1 = self.lyr1conv1(out)\n",
    "        out1 = self.lyr1bn1(out1)\n",
    "        out1 = self.lyr1relu1(out1)\n",
    "        out1 = self.lyr1conv2(out1)\n",
    "        out1 = self.lyr1bn2(out1)\n",
    "        \n",
    "        out = self.lyr1relu2(out1+out)\n",
    "        \n",
    "        out1 = self.lyr2conv1(out)\n",
    "        out1 = self.lyr2bn1(out1)\n",
    "        out1 = self.lyr2relu1(out1)\n",
    "        out1 = self.lyr2conv2(out1)\n",
    "        out1 = self.lyr2bn2(out1)\n",
    "        \n",
    "        out = self.lyr2relu2(out1+out)\n",
    "        \n",
    "        out = self.fc(out.view(-1,4096))\n",
    "        return out"
   ]
  },
  {
   "cell_type": "markdown",
   "metadata": {},
   "source": [
    "#### Finetune on pre-trained CIFAR-100 weights\n",
    "We shall now finetune our model using pretrained CIFAR-100 weights."
   ]
  },
  {
   "cell_type": "code",
   "execution_count": 28,
   "metadata": {
    "collapsed": true
   },
   "outputs": [],
   "source": [
    "model = CustomResnet(num_classes = 100) # 100 classes since CIFAR-100 has 100 classes\n",
    "\n",
    "# Load CIFAR-100 weights. (Download them from assignment page)\n",
    "# If network was properly implemented, weights should load without any problems\n",
    "model.load_state_dict(torch.load('../CIFAR-100_weights')) # Supply the path to the weight file"
   ]
  },
  {
   "cell_type": "markdown",
   "metadata": {},
   "source": [
    "##### Optional\n",
    "As a sanity check you may load the CIFAR-100 test dataset and test the above model. You should get an accuracy of ~41%. This part is optional and is meant for your convenience."
   ]
  },
  {
   "cell_type": "code",
   "execution_count": null,
   "metadata": {
    "collapsed": true
   },
   "outputs": [],
   "source": [
    "# Block for optionally running the model on CIFAR-100 test set"
   ]
  },
  {
   "cell_type": "markdown",
   "metadata": {},
   "source": [
    "Let's finetune the model."
   ]
  },
  {
   "cell_type": "code",
   "execution_count": 29,
   "metadata": {},
   "outputs": [
    {
     "name": "stdout",
     "output_type": "stream",
     "text": [
      "Epoch [1/5], Step [10/168], Loss: 0.8558\n",
      "Epoch [1/5], Step [20/168], Loss: 0.4852\n",
      "Epoch [1/5], Step [30/168], Loss: 0.3356\n",
      "Epoch [1/5], Step [40/168], Loss: 0.2446\n",
      "Epoch [1/5], Step [50/168], Loss: 0.2268\n",
      "Epoch [1/5], Step [60/168], Loss: 0.3879\n",
      "Epoch [1/5], Step [70/168], Loss: 0.3121\n",
      "Epoch [1/5], Step [80/168], Loss: 0.2442\n",
      "Epoch [1/5], Step [90/168], Loss: 0.3747\n",
      "Epoch [1/5], Step [100/168], Loss: 0.2836\n",
      "Epoch [1/5], Step [110/168], Loss: 0.1724\n",
      "Epoch [1/5], Step [120/168], Loss: 0.1417\n",
      "Epoch [1/5], Step [130/168], Loss: 0.3815\n",
      "Epoch [1/5], Step [140/168], Loss: 0.2109\n",
      "Epoch [1/5], Step [150/168], Loss: 0.1984\n",
      "Epoch [1/5], Step [160/168], Loss: 0.2662\n",
      "Epoch [2/5], Step [10/168], Loss: 0.3713\n",
      "Epoch [2/5], Step [20/168], Loss: 0.2668\n",
      "Epoch [2/5], Step [30/168], Loss: 0.2872\n",
      "Epoch [2/5], Step [40/168], Loss: 0.3002\n",
      "Epoch [2/5], Step [50/168], Loss: 0.2234\n",
      "Epoch [2/5], Step [60/168], Loss: 0.1762\n",
      "Epoch [2/5], Step [70/168], Loss: 0.0756\n",
      "Epoch [2/5], Step [80/168], Loss: 0.1249\n",
      "Epoch [2/5], Step [90/168], Loss: 0.1827\n",
      "Epoch [2/5], Step [100/168], Loss: 0.2698\n",
      "Epoch [2/5], Step [110/168], Loss: 0.1392\n",
      "Epoch [2/5], Step [120/168], Loss: 0.2169\n",
      "Epoch [2/5], Step [130/168], Loss: 0.1699\n",
      "Epoch [2/5], Step [140/168], Loss: 0.1774\n",
      "Epoch [2/5], Step [150/168], Loss: 0.1920\n",
      "Epoch [2/5], Step [160/168], Loss: 0.2548\n",
      "Epoch [3/5], Step [10/168], Loss: 0.1987\n",
      "Epoch [3/5], Step [20/168], Loss: 0.1580\n",
      "Epoch [3/5], Step [30/168], Loss: 0.0775\n",
      "Epoch [3/5], Step [40/168], Loss: 0.1576\n",
      "Epoch [3/5], Step [50/168], Loss: 0.1124\n",
      "Epoch [3/5], Step [60/168], Loss: 0.1380\n",
      "Epoch [3/5], Step [70/168], Loss: 0.3392\n",
      "Epoch [3/5], Step [80/168], Loss: 0.1545\n",
      "Epoch [3/5], Step [90/168], Loss: 0.2750\n",
      "Epoch [3/5], Step [100/168], Loss: 0.1614\n",
      "Epoch [3/5], Step [110/168], Loss: 0.1185\n",
      "Epoch [3/5], Step [120/168], Loss: 0.2548\n",
      "Epoch [3/5], Step [130/168], Loss: 0.2519\n",
      "Epoch [3/5], Step [140/168], Loss: 0.1931\n",
      "Epoch [3/5], Step [150/168], Loss: 0.4134\n",
      "Epoch [3/5], Step [160/168], Loss: 0.2000\n",
      "Epoch [4/5], Step [10/168], Loss: 0.0546\n",
      "Epoch [4/5], Step [20/168], Loss: 0.1115\n",
      "Epoch [4/5], Step [30/168], Loss: 0.0652\n",
      "Epoch [4/5], Step [40/168], Loss: 0.1376\n",
      "Epoch [4/5], Step [50/168], Loss: 0.1105\n",
      "Epoch [4/5], Step [60/168], Loss: 0.2462\n",
      "Epoch [4/5], Step [70/168], Loss: 0.1600\n",
      "Epoch [4/5], Step [80/168], Loss: 0.0633\n",
      "Epoch [4/5], Step [90/168], Loss: 0.1598\n",
      "Epoch [4/5], Step [100/168], Loss: 0.2091\n",
      "Epoch [4/5], Step [110/168], Loss: 0.0777\n",
      "Epoch [4/5], Step [120/168], Loss: 0.0486\n",
      "Epoch [4/5], Step [130/168], Loss: 0.2161\n",
      "Epoch [4/5], Step [140/168], Loss: 0.1824\n",
      "Epoch [4/5], Step [150/168], Loss: 0.0207\n",
      "Epoch [4/5], Step [160/168], Loss: 0.3442\n",
      "Epoch [5/5], Step [10/168], Loss: 0.0641\n",
      "Epoch [5/5], Step [20/168], Loss: 0.0449\n",
      "Epoch [5/5], Step [30/168], Loss: 0.1046\n",
      "Epoch [5/5], Step [40/168], Loss: 0.0346\n",
      "Epoch [5/5], Step [50/168], Loss: 0.0941\n",
      "Epoch [5/5], Step [60/168], Loss: 0.1350\n",
      "Epoch [5/5], Step [70/168], Loss: 0.1682\n",
      "Epoch [5/5], Step [80/168], Loss: 0.0249\n",
      "Epoch [5/5], Step [90/168], Loss: 0.0542\n",
      "Epoch [5/5], Step [100/168], Loss: 0.1782\n",
      "Epoch [5/5], Step [110/168], Loss: 0.0403\n",
      "Epoch [5/5], Step [120/168], Loss: 0.0568\n",
      "Epoch [5/5], Step [130/168], Loss: 0.0425\n",
      "Epoch [5/5], Step [140/168], Loss: 0.3208\n",
      "Epoch [5/5], Step [150/168], Loss: 0.0729\n",
      "Epoch [5/5], Step [160/168], Loss: 0.2162\n"
     ]
    },
    {
     "data": {
      "image/png": "[encoded data removed]",
      "text/plain": [
       "<matplotlib.figure.Figure at 0x7fc104556090>"
      ]
     },
     "metadata": {},
     "output_type": "display_data"
    },
    {
     "name": "stdout",
     "output_type": "stream",
     "text": [
      "CPU times: user 35.7 s, sys: 8.76 s, total: 44.5 s\n",
      "Wall time: 44.4 s\n"
     ]
    }
   ],
   "source": [
    "# Change last layer to output 10 classes since our dataset has 10 classes\n",
    "model.fc = nn.Linear(model.fc.in_features, 10)# Complete this statement. It is similar to the resnet18 case\n",
    "if(torch.cuda.is_available()):\n",
    "    model.cuda()\n",
    "# Loss function and optimizers\n",
    "criterion = nn.CrossEntropyLoss()# Define cross-entropy loss\n",
    "optimizer = torch.optim.Adam(model.parameters(), lr=learning_rate)# Use Adam optimizer, use learning_rate hyper parameter\n",
    "\n",
    "def train():\n",
    "    # Code for training the model\n",
    "    # Make sure to output a matplotlib graph of training losses\n",
    "    llist = []\n",
    "    count = 0\n",
    "    for epoch in range(num_epochs):\n",
    "        for i, (images, labels) in enumerate(train_loader):  \n",
    "            # Convert torch tensor to Variable\n",
    "            images = Variable(images)\n",
    "            labels = Variable(labels)\n",
    "            images=images.cuda()\n",
    "            labels=labels.cuda()\n",
    "            # Forward + Backward + Optimize\n",
    "            optimizer.zero_grad()  # zero the gradient buffer\n",
    "            outputs = model(images)\n",
    "            loss = criterion(outputs, labels)\n",
    "            loss.backward()\n",
    "            optimizer.step()\n",
    "            count = count+1\n",
    "            llist.append(loss.data[0])\n",
    "            if (i+1) % 10 == 0:\n",
    "                print ('Epoch [%d/%d], Step [%d/%d], Loss: %.4f' \n",
    "                       %(epoch+1, num_epochs, i+1, len(train_dataset)//batch_size, loss.data[0]))\n",
    "    plt.plot(np.array(range(count)),np.array(llist))\n",
    "    plt.show()\n",
    "\n",
    "%time train()"
   ]
  },
  {
   "cell_type": "markdown",
   "metadata": {},
   "source": [
    "Test the finetuned model"
   ]
  },
  {
   "cell_type": "code",
   "execution_count": 30,
   "metadata": {},
   "outputs": [
    {
     "name": "stdout",
     "output_type": "stream",
     "text": [
      "Accuracy of the network on the test images: 92 %\n",
      "CPU times: user 336 ms, sys: 96 ms, total: 432 ms\n",
      "Wall time: 432 ms\n"
     ]
    }
   ],
   "source": [
    "def test():\n",
    "    # Write loops for testing the model on the test set\n",
    "    # You should also print out the accuracy of the model\n",
    "    correct = 0\n",
    "    total = 0\n",
    "    \n",
    "    for images, labels in test_loader:\n",
    "        images = Variable(images)\n",
    "        \n",
    "        images = images.cuda()\n",
    "        \n",
    "        outputs = model(images)\n",
    "        _, predicted = torch.max(outputs.data, 1)\n",
    "        total += labels.size(0)\n",
    "        correct += (predicted.cpu() == labels.cpu()).sum()\n",
    "    print('Accuracy of the network on the test images: %d %%' % (100 * correct / total))\n",
    "    \n",
    "%time test()"
   ]
  },
  {
   "cell_type": "markdown",
   "metadata": {},
   "source": [
    "#### Training from scratch\n",
    "Now we shall try training the model from scratch and observe the differences."
   ]
  },
  {
   "cell_type": "code",
   "execution_count": 31,
   "metadata": {},
   "outputs": [
    {
     "name": "stdout",
     "output_type": "stream",
     "text": [
      "Epoch [1/5], Step [10/168], Loss: 0.7306\n",
      "Epoch [1/5], Step [20/168], Loss: 0.3058\n",
      "Epoch [1/5], Step [30/168], Loss: 0.2881\n",
      "Epoch [1/5], Step [40/168], Loss: 0.4845\n",
      "Epoch [1/5], Step [50/168], Loss: 0.4254\n",
      "Epoch [1/5], Step [60/168], Loss: 0.4671\n",
      "Epoch [1/5], Step [70/168], Loss: 0.1627\n",
      "Epoch [1/5], Step [80/168], Loss: 0.3578\n",
      "Epoch [1/5], Step [90/168], Loss: 0.2830\n",
      "Epoch [1/5], Step [100/168], Loss: 0.2811\n",
      "Epoch [1/5], Step [110/168], Loss: 0.3349\n",
      "Epoch [1/5], Step [120/168], Loss: 0.3531\n",
      "Epoch [1/5], Step [130/168], Loss: 0.3248\n",
      "Epoch [1/5], Step [140/168], Loss: 0.2677\n",
      "Epoch [1/5], Step [150/168], Loss: 0.2184\n",
      "Epoch [1/5], Step [160/168], Loss: 0.1871\n",
      "Epoch [2/5], Step [10/168], Loss: 0.2089\n",
      "Epoch [2/5], Step [20/168], Loss: 0.0812\n",
      "Epoch [2/5], Step [30/168], Loss: 0.1122\n",
      "Epoch [2/5], Step [40/168], Loss: 0.1015\n",
      "Epoch [2/5], Step [50/168], Loss: 0.1432\n",
      "Epoch [2/5], Step [60/168], Loss: 0.1154\n",
      "Epoch [2/5], Step [70/168], Loss: 0.1375\n",
      "Epoch [2/5], Step [80/168], Loss: 0.2043\n",
      "Epoch [2/5], Step [90/168], Loss: 0.1737\n",
      "Epoch [2/5], Step [100/168], Loss: 0.2864\n",
      "Epoch [2/5], Step [110/168], Loss: 0.1751\n",
      "Epoch [2/5], Step [120/168], Loss: 0.3321\n",
      "Epoch [2/5], Step [130/168], Loss: 0.1159\n",
      "Epoch [2/5], Step [140/168], Loss: 0.1209\n",
      "Epoch [2/5], Step [150/168], Loss: 0.2556\n",
      "Epoch [2/5], Step [160/168], Loss: 0.2381\n",
      "Epoch [3/5], Step [10/168], Loss: 0.2719\n",
      "Epoch [3/5], Step [20/168], Loss: 0.2307\n",
      "Epoch [3/5], Step [30/168], Loss: 0.3317\n",
      "Epoch [3/5], Step [40/168], Loss: 0.1254\n",
      "Epoch [3/5], Step [50/168], Loss: 0.2168\n",
      "Epoch [3/5], Step [60/168], Loss: 0.2511\n",
      "Epoch [3/5], Step [70/168], Loss: 0.3264\n",
      "Epoch [3/5], Step [80/168], Loss: 0.0893\n",
      "Epoch [3/5], Step [90/168], Loss: 0.3592\n",
      "Epoch [3/5], Step [100/168], Loss: 0.1045\n",
      "Epoch [3/5], Step [110/168], Loss: 0.2658\n",
      "Epoch [3/5], Step [120/168], Loss: 0.1477\n",
      "Epoch [3/5], Step [130/168], Loss: 0.1234\n",
      "Epoch [3/5], Step [140/168], Loss: 0.3503\n",
      "Epoch [3/5], Step [150/168], Loss: 0.2340\n",
      "Epoch [3/5], Step [160/168], Loss: 0.1850\n",
      "Epoch [4/5], Step [10/168], Loss: 0.0402\n",
      "Epoch [4/5], Step [20/168], Loss: 0.1684\n",
      "Epoch [4/5], Step [30/168], Loss: 0.1068\n",
      "Epoch [4/5], Step [40/168], Loss: 0.2052\n",
      "Epoch [4/5], Step [50/168], Loss: 0.0710\n",
      "Epoch [4/5], Step [60/168], Loss: 0.0805\n",
      "Epoch [4/5], Step [70/168], Loss: 0.1221\n",
      "Epoch [4/5], Step [80/168], Loss: 0.0379\n",
      "Epoch [4/5], Step [90/168], Loss: 0.0862\n",
      "Epoch [4/5], Step [100/168], Loss: 0.1829\n",
      "Epoch [4/5], Step [110/168], Loss: 0.1076\n",
      "Epoch [4/5], Step [120/168], Loss: 0.0396\n",
      "Epoch [4/5], Step [130/168], Loss: 0.1848\n",
      "Epoch [4/5], Step [140/168], Loss: 0.1020\n",
      "Epoch [4/5], Step [150/168], Loss: 0.2630\n",
      "Epoch [4/5], Step [160/168], Loss: 0.0900\n",
      "Epoch [5/5], Step [10/168], Loss: 0.0471\n",
      "Epoch [5/5], Step [20/168], Loss: 0.0288\n",
      "Epoch [5/5], Step [30/168], Loss: 0.1549\n",
      "Epoch [5/5], Step [40/168], Loss: 0.0813\n",
      "Epoch [5/5], Step [50/168], Loss: 0.1474\n",
      "Epoch [5/5], Step [60/168], Loss: 0.0278\n",
      "Epoch [5/5], Step [70/168], Loss: 0.0926\n",
      "Epoch [5/5], Step [80/168], Loss: 0.0741\n",
      "Epoch [5/5], Step [90/168], Loss: 0.0539\n",
      "Epoch [5/5], Step [100/168], Loss: 0.1355\n",
      "Epoch [5/5], Step [110/168], Loss: 0.0948\n",
      "Epoch [5/5], Step [120/168], Loss: 0.1156\n",
      "Epoch [5/5], Step [130/168], Loss: 0.1117\n",
      "Epoch [5/5], Step [140/168], Loss: 0.1588\n",
      "Epoch [5/5], Step [150/168], Loss: 0.1396\n",
      "Epoch [5/5], Step [160/168], Loss: 0.2187\n"
     ]
    },
    {
     "data": {
      "image/png": "[encoded data removed]",
      "text/plain": [
       "<matplotlib.figure.Figure at 0x7fc104591810>"
      ]
     },
     "metadata": {},
     "output_type": "display_data"
    },
    {
     "name": "stdout",
     "output_type": "stream",
     "text": [
      "CPU times: user 34.7 s, sys: 8.38 s, total: 43.1 s\n",
      "Wall time: 43 s\n",
      "Accuracy of the network on the test images: 92 %\n",
      "CPU times: user 380 ms, sys: 184 ms, total: 564 ms\n",
      "Wall time: 420 ms\n"
     ]
    }
   ],
   "source": [
    "# Reinstantiate the model and optimizer\n",
    "model = CustomResnet(num_classes = 10)\n",
    "if(torch.cuda.is_available()):\n",
    "    model.cuda()\n",
    "optimizer = torch.optim.Adam(model.parameters(), lr=learning_rate)# Use Adam optimizer, use learning_rate hyper parameter\n",
    "\n",
    "# Train\n",
    "%time train()\n",
    "\n",
    "# Test\n",
    "%time test()"
   ]
  },
  {
   "cell_type": "markdown",
   "metadata": {},
   "source": [
    "This is the end of Assignment 1"
   ]
  }
 ],
 "metadata": {
  "kernelspec": {
   "display_name": "Python 2",
   "language": "python",
   "name": "python2"
  },
  "language_info": {
   "codemirror_mode": {
    "name": "ipython",
    "version": 2
   },
   "file_extension": ".py",
   "mimetype": "text/x-python",
   "name": "python",
   "nbconvert_exporter": "python",
   "pygments_lexer": "ipython2",
   "version": "2.7.12"
  }
 },
 "nbformat": 4,
 "nbformat_minor": 2
}
